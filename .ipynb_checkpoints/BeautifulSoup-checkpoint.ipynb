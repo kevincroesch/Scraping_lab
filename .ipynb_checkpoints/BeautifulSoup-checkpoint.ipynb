{
 "cells": [
  {
   "cell_type": "code",
   "execution_count": 1,
   "metadata": {},
   "outputs": [],
   "source": [
    "# Import libaries\n",
    "import pandas as pd\n",
    "import requests\n",
    "from bs4 import BeautifulSoup"
   ]
  },
  {
   "cell_type": "markdown",
   "metadata": {},
   "source": [
    "### Step 1: Create a soup object from the home page"
   ]
  },
  {
   "cell_type": "code",
   "execution_count": 2,
   "metadata": {},
   "outputs": [
    {
     "name": "stdout",
     "output_type": "stream",
     "text": [
      "200\n"
     ]
    }
   ],
   "source": [
    "# setting my URL that we are going to scrape\n",
    "url = \"http://chubbygrub.com\"\n",
    "res = requests.get(url)\n",
    "\n",
    "# printing response to make sure it worked\n",
    "print(res.status_code)\n",
    "\n",
    "# Parsing and creating soup object;\n",
    "html = res.content\n",
    "soup = BeautifulSoup(html, 'lxml')"
   ]
  },
  {
   "cell_type": "markdown",
   "metadata": {},
   "source": [
    "### Step 2: Scrape the home page soup for every restaurant\n",
    "\n",
    "Note: Your best bet is to create a list of dictionaries, one for each restaurant. Each dictionary contains the restaurant's name and slug. The result of your scrape should look something like this:\n",
    "\n",
    "```python\n",
    "restaurants = [\n",
    "    {'name': 'A&W Restaurants', 'slug': 'aw-restaurants'}, \n",
    "    {'name': \"Applebee's\", 'slug': 'applebees'},\n",
    "    ...\n",
    "]\n",
    "```"
   ]
  },
  {
   "cell_type": "code",
   "execution_count": 3,
   "metadata": {},
   "outputs": [],
   "source": [
    "# Using soup.find_all with the btn btn-lg btn-primary value to pull all restaurants\n",
    "scrape = soup.find_all('a', {'class' : 'btn btn-lg btn-primary'}) "
   ]
  },
  {
   "cell_type": "code",
   "execution_count": 4,
   "metadata": {
    "scrolled": true
   },
   "outputs": [
    {
     "data": {
      "text/plain": [
       "[<a class=\"btn btn-lg btn-primary\" href=\"/restaurants/aw-restaurants\">A&amp;W Restaurants</a>,\n",
       " <a class=\"btn btn-lg btn-primary\" href=\"/restaurants/applebees\">Applebee's</a>,\n",
       " <a class=\"btn btn-lg btn-primary\" href=\"/restaurants/arbys\">Arby's</a>,\n",
       " <a class=\"btn btn-lg btn-primary\" href=\"/restaurants/atlanta-bread-company\">Atlanta Bread Company</a>,\n",
       " <a class=\"btn btn-lg btn-primary\" href=\"/restaurants/bojangles-famous-chicken-n-biscuits\">Bojangle's Famous Chicken 'n Biscuits</a>,\n",
       " <a class=\"btn btn-lg btn-primary\" href=\"/restaurants/buffalo-wild-wings\">Buffalo Wild Wings</a>,\n",
       " <a class=\"btn btn-lg btn-primary\" href=\"/restaurants/burger-king\">Burger King</a>,\n",
       " <a class=\"btn btn-lg btn-primary\" href=\"/restaurants/captain-ds\">Captain D's</a>,\n",
       " <a class=\"btn btn-lg btn-primary\" href=\"/restaurants/carls-jr\">Carl's Jr.</a>,\n",
       " <a class=\"btn btn-lg btn-primary\" href=\"/restaurants/charleys-grilled-subs\">Charley's Grilled Subs</a>,\n",
       " <a class=\"btn btn-lg btn-primary\" href=\"/restaurants/chick-fil-a\">Chick-fil-A</a>,\n",
       " <a class=\"btn btn-lg btn-primary\" href=\"/restaurants/chilis\">Chili's</a>,\n",
       " <a class=\"btn btn-lg btn-primary\" href=\"/restaurants/chipotle-mexican-grill\">Chipotle Mexican Grill</a>,\n",
       " <a class=\"btn btn-lg btn-primary\" href=\"/restaurants/churchs\">Church's</a>,\n",
       " <a class=\"btn btn-lg btn-primary\" href=\"/restaurants/corner-bakery-cafe\">Corner Bakery Cafe</a>,\n",
       " <a class=\"btn btn-lg btn-primary\" href=\"/restaurants/dairy-queen\">Dairy Queen</a>,\n",
       " <a class=\"btn btn-lg btn-primary\" href=\"/restaurants/dennys\">Denny's</a>,\n",
       " <a class=\"btn btn-lg btn-primary\" href=\"/restaurants/el-pollo-loco\">El Pollo Loco</a>,\n",
       " <a class=\"btn btn-lg btn-primary\" href=\"/restaurants/fatz\">FATZ</a>,\n",
       " <a class=\"btn btn-lg btn-primary\" href=\"/restaurants/fazolis\">Fazoli's</a>,\n",
       " <a class=\"btn btn-lg btn-primary\" href=\"/restaurants/five-guys-burgers-and-fries\">Five Guys Burgers and Fries</a>,\n",
       " <a class=\"btn btn-lg btn-primary\" href=\"/restaurants/golden-chick\">Golden Chick</a>,\n",
       " <a class=\"btn btn-lg btn-primary\" href=\"/restaurants/hardees\">Hardee's</a>,\n",
       " <a class=\"btn btn-lg btn-primary\" href=\"/restaurants/ihop\">IHOP</a>,\n",
       " <a class=\"btn btn-lg btn-primary\" href=\"/restaurants/in-n-out-burger\">In-N-Out Burger</a>,\n",
       " <a class=\"btn btn-lg btn-primary\" href=\"/restaurants/jack-in-the-box\">Jack in the Box</a>,\n",
       " <a class=\"btn btn-lg btn-primary\" href=\"/restaurants/jimmy-johns\">Jimmy Johns</a>,\n",
       " <a class=\"btn btn-lg btn-primary\" href=\"/restaurants/joes-crab-shack\">Joe's Crab Shack</a>,\n",
       " <a class=\"btn btn-lg btn-primary\" href=\"/restaurants/kfc\">KFC</a>,\n",
       " <a class=\"btn btn-lg btn-primary\" href=\"/restaurants/mcdonalds\">McDonald's</a>,\n",
       " <a class=\"btn btn-lg btn-primary\" href=\"/restaurants/ocharleys\">O'Charley's</a>,\n",
       " <a class=\"btn btn-lg btn-primary\" href=\"/restaurants/olive-garden\">Olive Garden</a>,\n",
       " <a class=\"btn btn-lg btn-primary\" href=\"/restaurants/outback-steakhouse\">Outback Steakhouse</a>,\n",
       " <a class=\"btn btn-lg btn-primary\" href=\"/restaurants/panda-express\">Panda Express</a>,\n",
       " <a class=\"btn btn-lg btn-primary\" href=\"/restaurants/panera-bread\">Panera Bread</a>,\n",
       " <a class=\"btn btn-lg btn-primary\" href=\"/restaurants/popeyes\">Popeye's</a>,\n",
       " <a class=\"btn btn-lg btn-primary\" href=\"/restaurants/quiznos\">Quiznos</a>,\n",
       " <a class=\"btn btn-lg btn-primary\" href=\"/restaurants/red-robin-gourmet-burgers\">Red Robin Gourmet Burgers</a>,\n",
       " <a class=\"btn btn-lg btn-primary\" href=\"/restaurants/romanos-macaroni-grill\">Romano's Macaroni Grill</a>,\n",
       " <a class=\"btn btn-lg btn-primary\" href=\"/restaurants/ruby-tuesday\">Ruby Tuesday</a>,\n",
       " <a class=\"btn btn-lg btn-primary\" href=\"/restaurants/subway\">Subway</a>,\n",
       " <a class=\"btn btn-lg btn-primary\" href=\"/restaurants/taco-bell\">Taco Bell</a>,\n",
       " <a class=\"btn btn-lg btn-primary\" href=\"/restaurants/taco-bueno\">Taco Bueno</a>,\n",
       " <a class=\"btn btn-lg btn-primary\" href=\"/restaurants/wendys\">Wendy's</a>]"
      ]
     },
     "execution_count": 4,
     "metadata": {},
     "output_type": "execute_result"
    }
   ],
   "source": [
    "#calling scrape to see if it worked\n",
    "scrape"
   ]
  },
  {
   "cell_type": "code",
   "execution_count": 5,
   "metadata": {},
   "outputs": [],
   "source": [
    "# going through my scrape list to pull the restaurant name text\n",
    "names = [name.text for name in scrape]"
   ]
  },
  {
   "cell_type": "code",
   "execution_count": 6,
   "metadata": {
    "scrolled": true
   },
   "outputs": [
    {
     "data": {
      "text/plain": [
       "['A&W Restaurants',\n",
       " \"Applebee's\",\n",
       " \"Arby's\",\n",
       " 'Atlanta Bread Company',\n",
       " \"Bojangle's Famous Chicken 'n Biscuits\",\n",
       " 'Buffalo Wild Wings',\n",
       " 'Burger King',\n",
       " \"Captain D's\",\n",
       " \"Carl's Jr.\",\n",
       " \"Charley's Grilled Subs\",\n",
       " 'Chick-fil-A',\n",
       " \"Chili's\",\n",
       " 'Chipotle Mexican Grill',\n",
       " \"Church's\",\n",
       " 'Corner Bakery Cafe',\n",
       " 'Dairy Queen',\n",
       " \"Denny's\",\n",
       " 'El Pollo Loco',\n",
       " 'FATZ',\n",
       " \"Fazoli's\",\n",
       " 'Five Guys Burgers and Fries',\n",
       " 'Golden Chick',\n",
       " \"Hardee's\",\n",
       " 'IHOP',\n",
       " 'In-N-Out Burger',\n",
       " 'Jack in the Box',\n",
       " 'Jimmy Johns',\n",
       " \"Joe's Crab Shack\",\n",
       " 'KFC',\n",
       " \"McDonald's\",\n",
       " \"O'Charley's\",\n",
       " 'Olive Garden',\n",
       " 'Outback Steakhouse',\n",
       " 'Panda Express',\n",
       " 'Panera Bread',\n",
       " \"Popeye's\",\n",
       " 'Quiznos',\n",
       " 'Red Robin Gourmet Burgers',\n",
       " \"Romano's Macaroni Grill\",\n",
       " 'Ruby Tuesday',\n",
       " 'Subway',\n",
       " 'Taco Bell',\n",
       " 'Taco Bueno',\n",
       " \"Wendy's\"]"
      ]
     },
     "execution_count": 6,
     "metadata": {},
     "output_type": "execute_result"
    }
   ],
   "source": [
    "#calling names to see if it worked\n",
    "names"
   ]
  },
  {
   "cell_type": "code",
   "execution_count": 7,
   "metadata": {},
   "outputs": [],
   "source": [
    "# going through my scrape list to pull the slug. \n",
    "slugs = [name.attrs['href'] for name in scrape]"
   ]
  },
  {
   "cell_type": "code",
   "execution_count": 8,
   "metadata": {
    "scrolled": true
   },
   "outputs": [
    {
     "data": {
      "text/plain": [
       "['/restaurants/aw-restaurants',\n",
       " '/restaurants/applebees',\n",
       " '/restaurants/arbys',\n",
       " '/restaurants/atlanta-bread-company',\n",
       " '/restaurants/bojangles-famous-chicken-n-biscuits',\n",
       " '/restaurants/buffalo-wild-wings',\n",
       " '/restaurants/burger-king',\n",
       " '/restaurants/captain-ds',\n",
       " '/restaurants/carls-jr',\n",
       " '/restaurants/charleys-grilled-subs',\n",
       " '/restaurants/chick-fil-a',\n",
       " '/restaurants/chilis',\n",
       " '/restaurants/chipotle-mexican-grill',\n",
       " '/restaurants/churchs',\n",
       " '/restaurants/corner-bakery-cafe',\n",
       " '/restaurants/dairy-queen',\n",
       " '/restaurants/dennys',\n",
       " '/restaurants/el-pollo-loco',\n",
       " '/restaurants/fatz',\n",
       " '/restaurants/fazolis',\n",
       " '/restaurants/five-guys-burgers-and-fries',\n",
       " '/restaurants/golden-chick',\n",
       " '/restaurants/hardees',\n",
       " '/restaurants/ihop',\n",
       " '/restaurants/in-n-out-burger',\n",
       " '/restaurants/jack-in-the-box',\n",
       " '/restaurants/jimmy-johns',\n",
       " '/restaurants/joes-crab-shack',\n",
       " '/restaurants/kfc',\n",
       " '/restaurants/mcdonalds',\n",
       " '/restaurants/ocharleys',\n",
       " '/restaurants/olive-garden',\n",
       " '/restaurants/outback-steakhouse',\n",
       " '/restaurants/panda-express',\n",
       " '/restaurants/panera-bread',\n",
       " '/restaurants/popeyes',\n",
       " '/restaurants/quiznos',\n",
       " '/restaurants/red-robin-gourmet-burgers',\n",
       " '/restaurants/romanos-macaroni-grill',\n",
       " '/restaurants/ruby-tuesday',\n",
       " '/restaurants/subway',\n",
       " '/restaurants/taco-bell',\n",
       " '/restaurants/taco-bueno',\n",
       " '/restaurants/wendys']"
      ]
     },
     "execution_count": 8,
     "metadata": {},
     "output_type": "execute_result"
    }
   ],
   "source": [
    "#calling slugs to see if it worked\n",
    "slugs"
   ]
  },
  {
   "cell_type": "code",
   "execution_count": 9,
   "metadata": {},
   "outputs": [],
   "source": [
    "# rerunning this to remove /restaurants/\n",
    "slugs = [name.attrs['href'].replace('/restaurants/', '') for name in scrape]"
   ]
  },
  {
   "cell_type": "code",
   "execution_count": 10,
   "metadata": {},
   "outputs": [
    {
     "data": {
      "text/plain": [
       "['aw-restaurants',\n",
       " 'applebees',\n",
       " 'arbys',\n",
       " 'atlanta-bread-company',\n",
       " 'bojangles-famous-chicken-n-biscuits',\n",
       " 'buffalo-wild-wings',\n",
       " 'burger-king',\n",
       " 'captain-ds',\n",
       " 'carls-jr',\n",
       " 'charleys-grilled-subs',\n",
       " 'chick-fil-a',\n",
       " 'chilis',\n",
       " 'chipotle-mexican-grill',\n",
       " 'churchs',\n",
       " 'corner-bakery-cafe',\n",
       " 'dairy-queen',\n",
       " 'dennys',\n",
       " 'el-pollo-loco',\n",
       " 'fatz',\n",
       " 'fazolis',\n",
       " 'five-guys-burgers-and-fries',\n",
       " 'golden-chick',\n",
       " 'hardees',\n",
       " 'ihop',\n",
       " 'in-n-out-burger',\n",
       " 'jack-in-the-box',\n",
       " 'jimmy-johns',\n",
       " 'joes-crab-shack',\n",
       " 'kfc',\n",
       " 'mcdonalds',\n",
       " 'ocharleys',\n",
       " 'olive-garden',\n",
       " 'outback-steakhouse',\n",
       " 'panda-express',\n",
       " 'panera-bread',\n",
       " 'popeyes',\n",
       " 'quiznos',\n",
       " 'red-robin-gourmet-burgers',\n",
       " 'romanos-macaroni-grill',\n",
       " 'ruby-tuesday',\n",
       " 'subway',\n",
       " 'taco-bell',\n",
       " 'taco-bueno',\n",
       " 'wendys']"
      ]
     },
     "execution_count": 10,
     "metadata": {},
     "output_type": "execute_result"
    }
   ],
   "source": [
    "# calling slugs again to see if that fixed the problem\n",
    "slugs"
   ]
  },
  {
   "cell_type": "code",
   "execution_count": 12,
   "metadata": {},
   "outputs": [],
   "source": [
    "# Creating an empty list to house the dictionaries of my restaurant data\n",
    "restaurants = []\n",
    "\n",
    "\"\"\"\n",
    "Creating loop to make the dictionaries in my restaurants list\n",
    "Using zip() based on reccomendation. \n",
    "The purpose of zip() is to map the similar index of \n",
    "multiple containers so that they can be used just using as single entity.\n",
    "\n",
    "\"\"\"\n",
    "for name, slug in zip(names, slugs):\n",
    "    chubby_dict = {}\n",
    "    chubby_dict['name'] = name\n",
    "    chubby_dict['slug'] = slug\n",
    "    restaurants.append(chubby_dict)"
   ]
  },
  {
   "cell_type": "code",
   "execution_count": 13,
   "metadata": {
    "scrolled": true
   },
   "outputs": [
    {
     "data": {
      "text/plain": [
       "[{'name': 'A&W Restaurants', 'slug': 'aw-restaurants'},\n",
       " {'name': \"Applebee's\", 'slug': 'applebees'},\n",
       " {'name': \"Arby's\", 'slug': 'arbys'},\n",
       " {'name': 'Atlanta Bread Company', 'slug': 'atlanta-bread-company'},\n",
       " {'name': \"Bojangle's Famous Chicken 'n Biscuits\",\n",
       "  'slug': 'bojangles-famous-chicken-n-biscuits'},\n",
       " {'name': 'Buffalo Wild Wings', 'slug': 'buffalo-wild-wings'},\n",
       " {'name': 'Burger King', 'slug': 'burger-king'},\n",
       " {'name': \"Captain D's\", 'slug': 'captain-ds'},\n",
       " {'name': \"Carl's Jr.\", 'slug': 'carls-jr'},\n",
       " {'name': \"Charley's Grilled Subs\", 'slug': 'charleys-grilled-subs'},\n",
       " {'name': 'Chick-fil-A', 'slug': 'chick-fil-a'},\n",
       " {'name': \"Chili's\", 'slug': 'chilis'},\n",
       " {'name': 'Chipotle Mexican Grill', 'slug': 'chipotle-mexican-grill'},\n",
       " {'name': \"Church's\", 'slug': 'churchs'},\n",
       " {'name': 'Corner Bakery Cafe', 'slug': 'corner-bakery-cafe'},\n",
       " {'name': 'Dairy Queen', 'slug': 'dairy-queen'},\n",
       " {'name': \"Denny's\", 'slug': 'dennys'},\n",
       " {'name': 'El Pollo Loco', 'slug': 'el-pollo-loco'},\n",
       " {'name': 'FATZ', 'slug': 'fatz'},\n",
       " {'name': \"Fazoli's\", 'slug': 'fazolis'},\n",
       " {'name': 'Five Guys Burgers and Fries',\n",
       "  'slug': 'five-guys-burgers-and-fries'},\n",
       " {'name': 'Golden Chick', 'slug': 'golden-chick'},\n",
       " {'name': \"Hardee's\", 'slug': 'hardees'},\n",
       " {'name': 'IHOP', 'slug': 'ihop'},\n",
       " {'name': 'In-N-Out Burger', 'slug': 'in-n-out-burger'},\n",
       " {'name': 'Jack in the Box', 'slug': 'jack-in-the-box'},\n",
       " {'name': 'Jimmy Johns', 'slug': 'jimmy-johns'},\n",
       " {'name': \"Joe's Crab Shack\", 'slug': 'joes-crab-shack'},\n",
       " {'name': 'KFC', 'slug': 'kfc'},\n",
       " {'name': \"McDonald's\", 'slug': 'mcdonalds'},\n",
       " {'name': \"O'Charley's\", 'slug': 'ocharleys'},\n",
       " {'name': 'Olive Garden', 'slug': 'olive-garden'},\n",
       " {'name': 'Outback Steakhouse', 'slug': 'outback-steakhouse'},\n",
       " {'name': 'Panda Express', 'slug': 'panda-express'},\n",
       " {'name': 'Panera Bread', 'slug': 'panera-bread'},\n",
       " {'name': \"Popeye's\", 'slug': 'popeyes'},\n",
       " {'name': 'Quiznos', 'slug': 'quiznos'},\n",
       " {'name': 'Red Robin Gourmet Burgers', 'slug': 'red-robin-gourmet-burgers'},\n",
       " {'name': \"Romano's Macaroni Grill\", 'slug': 'romanos-macaroni-grill'},\n",
       " {'name': 'Ruby Tuesday', 'slug': 'ruby-tuesday'},\n",
       " {'name': 'Subway', 'slug': 'subway'},\n",
       " {'name': 'Taco Bell', 'slug': 'taco-bell'},\n",
       " {'name': 'Taco Bueno', 'slug': 'taco-bueno'},\n",
       " {'name': \"Wendy's\", 'slug': 'wendys'}]"
      ]
     },
     "execution_count": 13,
     "metadata": {},
     "output_type": "execute_result"
    }
   ],
   "source": [
    "# Calling restaurants to see if it worked\n",
    "restaurants"
   ]
  },
  {
   "cell_type": "markdown",
   "metadata": {},
   "source": [
    "### Step 3: Using the slug, scrape each restaurant's page and create a single list of food dictionaries.\n",
    "\n",
    "Your list of foods should look something like this:\n",
    "```python\n",
    "foods = [\n",
    "    {\n",
    "        'calories': '0',\n",
    "        'carbs': '0',\n",
    "        'category': 'Drinks',\n",
    "        'fat': '0',\n",
    "        'name': 'A&W® Diet Root Beer',\n",
    "        'restaurant': 'A&W Restaurants'\n",
    "    },\n",
    "    {\n",
    "        'calories': '0',\n",
    "        'carbs': '0',\n",
    "        'category': 'Drinks',\n",
    "        'fat': '0',\n",
    "        'name': 'A&W® Diet Root Beer',\n",
    "        'restaurant': 'A&W Restaurants'\n",
    "    },\n",
    "    ...\n",
    "]\n",
    "```\n",
    "\n",
    "**Note**: Remove extra white space from each category"
   ]
  },
  {
   "cell_type": "code",
   "execution_count": 14,
   "metadata": {},
   "outputs": [],
   "source": [
    "#Creating a list of each restaurant's URL\n",
    "urls_list = [url + name.attrs['href'] for name in scrape]"
   ]
  },
  {
   "cell_type": "code",
   "execution_count": 15,
   "metadata": {},
   "outputs": [
    {
     "data": {
      "text/plain": [
       "['http://chubbygrub.com/restaurants/aw-restaurants',\n",
       " 'http://chubbygrub.com/restaurants/applebees',\n",
       " 'http://chubbygrub.com/restaurants/arbys',\n",
       " 'http://chubbygrub.com/restaurants/atlanta-bread-company',\n",
       " 'http://chubbygrub.com/restaurants/bojangles-famous-chicken-n-biscuits',\n",
       " 'http://chubbygrub.com/restaurants/buffalo-wild-wings',\n",
       " 'http://chubbygrub.com/restaurants/burger-king',\n",
       " 'http://chubbygrub.com/restaurants/captain-ds',\n",
       " 'http://chubbygrub.com/restaurants/carls-jr',\n",
       " 'http://chubbygrub.com/restaurants/charleys-grilled-subs',\n",
       " 'http://chubbygrub.com/restaurants/chick-fil-a',\n",
       " 'http://chubbygrub.com/restaurants/chilis',\n",
       " 'http://chubbygrub.com/restaurants/chipotle-mexican-grill',\n",
       " 'http://chubbygrub.com/restaurants/churchs',\n",
       " 'http://chubbygrub.com/restaurants/corner-bakery-cafe',\n",
       " 'http://chubbygrub.com/restaurants/dairy-queen',\n",
       " 'http://chubbygrub.com/restaurants/dennys',\n",
       " 'http://chubbygrub.com/restaurants/el-pollo-loco',\n",
       " 'http://chubbygrub.com/restaurants/fatz',\n",
       " 'http://chubbygrub.com/restaurants/fazolis',\n",
       " 'http://chubbygrub.com/restaurants/five-guys-burgers-and-fries',\n",
       " 'http://chubbygrub.com/restaurants/golden-chick',\n",
       " 'http://chubbygrub.com/restaurants/hardees',\n",
       " 'http://chubbygrub.com/restaurants/ihop',\n",
       " 'http://chubbygrub.com/restaurants/in-n-out-burger',\n",
       " 'http://chubbygrub.com/restaurants/jack-in-the-box',\n",
       " 'http://chubbygrub.com/restaurants/jimmy-johns',\n",
       " 'http://chubbygrub.com/restaurants/joes-crab-shack',\n",
       " 'http://chubbygrub.com/restaurants/kfc',\n",
       " 'http://chubbygrub.com/restaurants/mcdonalds',\n",
       " 'http://chubbygrub.com/restaurants/ocharleys',\n",
       " 'http://chubbygrub.com/restaurants/olive-garden',\n",
       " 'http://chubbygrub.com/restaurants/outback-steakhouse',\n",
       " 'http://chubbygrub.com/restaurants/panda-express',\n",
       " 'http://chubbygrub.com/restaurants/panera-bread',\n",
       " 'http://chubbygrub.com/restaurants/popeyes',\n",
       " 'http://chubbygrub.com/restaurants/quiznos',\n",
       " 'http://chubbygrub.com/restaurants/red-robin-gourmet-burgers',\n",
       " 'http://chubbygrub.com/restaurants/romanos-macaroni-grill',\n",
       " 'http://chubbygrub.com/restaurants/ruby-tuesday',\n",
       " 'http://chubbygrub.com/restaurants/subway',\n",
       " 'http://chubbygrub.com/restaurants/taco-bell',\n",
       " 'http://chubbygrub.com/restaurants/taco-bueno',\n",
       " 'http://chubbygrub.com/restaurants/wendys']"
      ]
     },
     "execution_count": 15,
     "metadata": {},
     "output_type": "execute_result"
    }
   ],
   "source": [
    "#Checking urls_list to see if ti worked properly\n",
    "urls_list"
   ]
  },
  {
   "cell_type": "code",
   "execution_count": null,
   "metadata": {},
   "outputs": [],
   "source": [
    "# Creating empty list for food info\n",
    "food = []\n",
    "\n",
    "# creating a loop to recreate a soup object for each url in my urls_list\n",
    "for url in urls_list:\n",
    "    res1 = requests.get(url)\n",
    "    soup1 = BeautifulSoup(res1.content, 'lxml')\n",
    "    table1 = soup1.find('table', {'id' : 'items'})\n",
    "    \n",
    "# Creating loop to pull info for foods list\n",
    "    for row in table1.find_all('tr')[1:]:\n",
    "        items = {}    \n",
    "        items['calories'] = row.find('td', {'itemprop' : 'calories'}).text\n",
    "        items['carbs'] = row.find('td', {'itemprop' : 'carbohydrateContent'}).text\n",
    "        items['category'] = row.find('td', {'class' : 'hidden-xs category-column'}).text.strip()\n",
    "        items['fat'] = row.find('td', {'itemprop' : 'fatContent'}).text\n",
    "        items['name'] = row.find('td', {'itemprop' : 'name'}).text\n",
    "        items['restaurant'] = soup1.find('span', {'itemprop' : 'name'}).text\n",
    "        \n",
    "        food.append(items)"
   ]
  },
  {
   "cell_type": "markdown",
   "metadata": {},
   "source": [
    "### Step 4: Create a pandas DataFrame from your list of foods\n",
    "\n",
    "**Note**: Your DataFrame should have 4,977 rows"
   ]
  },
  {
   "cell_type": "code",
   "execution_count": null,
   "metadata": {},
   "outputs": [],
   "source": [
    "# Checking len of food to see if I got the proper amount of rows before creating my df\n",
    "len(food)"
   ]
  },
  {
   "cell_type": "code",
   "execution_count": null,
   "metadata": {},
   "outputs": [],
   "source": [
    "#creating df for food\n",
    "df = pd.DataFrame(food)"
   ]
  },
  {
   "cell_type": "code",
   "execution_count": null,
   "metadata": {},
   "outputs": [],
   "source": [
    "# Checking shape to see if we got all of the rows and colmuns correct\n",
    "df.shape"
   ]
  },
  {
   "cell_type": "code",
   "execution_count": null,
   "metadata": {},
   "outputs": [],
   "source": [
    "# checking .head() to see if it worked properly\n",
    "df.head()"
   ]
  },
  {
   "cell_type": "markdown",
   "metadata": {},
   "source": [
    "### Step 5: Export to csv\n",
    "\n",
    "**Note:** Don't export the index column from your DataFrame"
   ]
  },
  {
   "cell_type": "code",
   "execution_count": null,
   "metadata": {},
   "outputs": [],
   "source": [
    "# exporting to csv\n",
    "df.to_csv('BeatifulSoup_Lab.csv', index = False)"
   ]
  },
  {
   "cell_type": "code",
   "execution_count": null,
   "metadata": {},
   "outputs": [],
   "source": []
  }
 ],
 "metadata": {
  "kernelspec": {
   "display_name": "Python 3",
   "language": "python",
   "name": "python3"
  },
  "language_info": {
   "codemirror_mode": {
    "name": "ipython",
    "version": 3
   },
   "file_extension": ".py",
   "mimetype": "text/x-python",
   "name": "python",
   "nbconvert_exporter": "python",
   "pygments_lexer": "ipython3",
   "version": "3.7.3"
  }
 },
 "nbformat": 4,
 "nbformat_minor": 2
}
